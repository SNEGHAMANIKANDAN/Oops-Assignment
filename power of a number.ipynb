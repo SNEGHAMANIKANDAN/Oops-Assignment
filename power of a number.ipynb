{
 "cells": [
  {
   "cell_type": "markdown",
   "id": "401e89b1",
   "metadata": {},
   "source": [
    "Write a Python class to implement pow(x, n)"
   ]
  },
  {
   "cell_type": "code",
   "execution_count": 4,
   "id": "424392a4",
   "metadata": {},
   "outputs": [
    {
     "name": "stdout",
     "output_type": "stream",
     "text": [
      "Enter the number 2\n",
      "Enter the power you want the number to be raised 3\n",
      "The number 2 raised to the power of 3 is 8\n"
     ]
    }
   ],
   "source": [
    "class Power:\n",
    "    def __init__(self):\n",
    "        self.num = 0\n",
    "        self.power = 0\n",
    "        self.result = 0\n",
    "        \n",
    "    def set_val(self):\n",
    "        self.num = int(input(\"Enter the number \"))\n",
    "        self.power = int(input(\"Enter the power you want the number to be raised \"))\n",
    "        \n",
    "    def get_val(self):\n",
    "        self.result = self.num ** self.power\n",
    "        return self.result\n",
    "\n",
    "powerOfNum=Power()\n",
    "powerOfNum.set_val()\n",
    "result = print(f'The number {powerOfNum.num} raised to the power of {powerOfNum.power} is', powerOfNum.get_val())\n"
   ]
  },
  {
   "cell_type": "code",
   "execution_count": null,
   "id": "bc5ed9a8",
   "metadata": {},
   "outputs": [],
   "source": []
  }
 ],
 "metadata": {
  "kernelspec": {
   "display_name": "Python 3 (ipykernel)",
   "language": "python",
   "name": "python3"
  },
  "language_info": {
   "codemirror_mode": {
    "name": "ipython",
    "version": 3
   },
   "file_extension": ".py",
   "mimetype": "text/x-python",
   "name": "python",
   "nbconvert_exporter": "python",
   "pygments_lexer": "ipython3",
   "version": "3.10.1"
  }
 },
 "nbformat": 4,
 "nbformat_minor": 5
}
